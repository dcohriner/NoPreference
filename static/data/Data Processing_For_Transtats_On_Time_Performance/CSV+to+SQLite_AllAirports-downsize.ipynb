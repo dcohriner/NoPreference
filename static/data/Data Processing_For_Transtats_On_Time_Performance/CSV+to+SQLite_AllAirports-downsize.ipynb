{
 "cells": [
  {
   "cell_type": "code",
   "execution_count": 60,
   "metadata": {
    "collapsed": true
   },
   "outputs": [],
   "source": [
    "#import dependencies\n",
    "import pandas as pd\n",
    "import numpy as np\n",
    "import sqlite3\n",
    "from pandas.io import sql\n",
    "import subprocess"
   ]
  },
  {
   "cell_type": "code",
   "execution_count": 50,
   "metadata": {
    "collapsed": true
   },
   "outputs": [],
   "source": [
    "# import SQLalchemy dependencies\n",
    "from sqlalchemy import create_engine\n",
    "from sqlalchemy.ext.declarative import declarative_base\n",
    "Base = declarative_base()\n",
    "\n",
    "from sqlalchemy import Column, Integer, String, Float\n",
    "\n",
    "import pymysql\n",
    "pymysql.install_as_MySQLdb()\n"
   ]
  },
  {
   "cell_type": "code",
   "execution_count": 51,
   "metadata": {},
   "outputs": [],
   "source": [
    "#read csv into dataframe\n",
    "df = pd.read_csv('transtats_final.csv', sep=',',  dtype='unicode')"
   ]
  },
  {
   "cell_type": "code",
   "execution_count": 52,
   "metadata": {},
   "outputs": [
    {
     "data": {
      "text/html": [
       "<div>\n",
       "<style>\n",
       "    .dataframe thead tr:only-child th {\n",
       "        text-align: right;\n",
       "    }\n",
       "\n",
       "    .dataframe thead th {\n",
       "        text-align: left;\n",
       "    }\n",
       "\n",
       "    .dataframe tbody tr th {\n",
       "        vertical-align: top;\n",
       "    }\n",
       "</style>\n",
       "<table border=\"1\" class=\"dataframe\">\n",
       "  <thead>\n",
       "    <tr style=\"text-align: right;\">\n",
       "      <th></th>\n",
       "      <th>CARRIER</th>\n",
       "      <th>ORIGIN</th>\n",
       "      <th>ORIGIN_CITY_NAME</th>\n",
       "      <th>DEST</th>\n",
       "      <th>DEST_CITY_NAME</th>\n",
       "      <th>DEP_DELAY</th>\n",
       "      <th>WEATHER_DELAY</th>\n",
       "      <th>LATE_AIRCRAFT_DELAY</th>\n",
       "    </tr>\n",
       "  </thead>\n",
       "  <tbody>\n",
       "    <tr>\n",
       "      <th>0</th>\n",
       "      <td>9E</td>\n",
       "      <td>ABY</td>\n",
       "      <td>Albany, GA</td>\n",
       "      <td>ATL</td>\n",
       "      <td>Atlanta, GA</td>\n",
       "      <td>10</td>\n",
       "      <td>1</td>\n",
       "      <td>9</td>\n",
       "    </tr>\n",
       "    <tr>\n",
       "      <th>1</th>\n",
       "      <td>9E</td>\n",
       "      <td>ATL</td>\n",
       "      <td>Atlanta, GA</td>\n",
       "      <td>ABY</td>\n",
       "      <td>Albany, GA</td>\n",
       "      <td>11</td>\n",
       "      <td>NaN</td>\n",
       "      <td>NaN</td>\n",
       "    </tr>\n",
       "    <tr>\n",
       "      <th>2</th>\n",
       "      <td>9E</td>\n",
       "      <td>SAV</td>\n",
       "      <td>Savannah, GA</td>\n",
       "      <td>JFK</td>\n",
       "      <td>New York, NY</td>\n",
       "      <td>NaN</td>\n",
       "      <td>NaN</td>\n",
       "      <td>NaN</td>\n",
       "    </tr>\n",
       "    <tr>\n",
       "      <th>3</th>\n",
       "      <td>9E</td>\n",
       "      <td>SAV</td>\n",
       "      <td>Savannah, GA</td>\n",
       "      <td>JFK</td>\n",
       "      <td>New York, NY</td>\n",
       "      <td>-10</td>\n",
       "      <td>NaN</td>\n",
       "      <td>NaN</td>\n",
       "    </tr>\n",
       "    <tr>\n",
       "      <th>4</th>\n",
       "      <td>9E</td>\n",
       "      <td>SAV</td>\n",
       "      <td>Savannah, GA</td>\n",
       "      <td>JFK</td>\n",
       "      <td>New York, NY</td>\n",
       "      <td>-6</td>\n",
       "      <td>NaN</td>\n",
       "      <td>NaN</td>\n",
       "    </tr>\n",
       "    <tr>\n",
       "      <th>5</th>\n",
       "      <td>9E</td>\n",
       "      <td>SAV</td>\n",
       "      <td>Savannah, GA</td>\n",
       "      <td>JFK</td>\n",
       "      <td>New York, NY</td>\n",
       "      <td>-1</td>\n",
       "      <td>NaN</td>\n",
       "      <td>NaN</td>\n",
       "    </tr>\n",
       "    <tr>\n",
       "      <th>6</th>\n",
       "      <td>9E</td>\n",
       "      <td>SAV</td>\n",
       "      <td>Savannah, GA</td>\n",
       "      <td>JFK</td>\n",
       "      <td>New York, NY</td>\n",
       "      <td>-3</td>\n",
       "      <td>NaN</td>\n",
       "      <td>NaN</td>\n",
       "    </tr>\n",
       "    <tr>\n",
       "      <th>7</th>\n",
       "      <td>9E</td>\n",
       "      <td>SAV</td>\n",
       "      <td>Savannah, GA</td>\n",
       "      <td>JFK</td>\n",
       "      <td>New York, NY</td>\n",
       "      <td>NaN</td>\n",
       "      <td>NaN</td>\n",
       "      <td>NaN</td>\n",
       "    </tr>\n",
       "    <tr>\n",
       "      <th>8</th>\n",
       "      <td>9E</td>\n",
       "      <td>SAV</td>\n",
       "      <td>Savannah, GA</td>\n",
       "      <td>JFK</td>\n",
       "      <td>New York, NY</td>\n",
       "      <td>-8</td>\n",
       "      <td>NaN</td>\n",
       "      <td>NaN</td>\n",
       "    </tr>\n",
       "    <tr>\n",
       "      <th>9</th>\n",
       "      <td>9E</td>\n",
       "      <td>SAV</td>\n",
       "      <td>Savannah, GA</td>\n",
       "      <td>JFK</td>\n",
       "      <td>New York, NY</td>\n",
       "      <td>-7</td>\n",
       "      <td>NaN</td>\n",
       "      <td>NaN</td>\n",
       "    </tr>\n",
       "  </tbody>\n",
       "</table>\n",
       "</div>"
      ],
      "text/plain": [
       "  CARRIER ORIGIN ORIGIN_CITY_NAME DEST DEST_CITY_NAME DEP_DELAY WEATHER_DELAY  \\\n",
       "0      9E    ABY       Albany, GA  ATL    Atlanta, GA        10             1   \n",
       "1      9E    ATL      Atlanta, GA  ABY     Albany, GA        11           NaN   \n",
       "2      9E    SAV     Savannah, GA  JFK   New York, NY       NaN           NaN   \n",
       "3      9E    SAV     Savannah, GA  JFK   New York, NY       -10           NaN   \n",
       "4      9E    SAV     Savannah, GA  JFK   New York, NY        -6           NaN   \n",
       "5      9E    SAV     Savannah, GA  JFK   New York, NY        -1           NaN   \n",
       "6      9E    SAV     Savannah, GA  JFK   New York, NY        -3           NaN   \n",
       "7      9E    SAV     Savannah, GA  JFK   New York, NY       NaN           NaN   \n",
       "8      9E    SAV     Savannah, GA  JFK   New York, NY        -8           NaN   \n",
       "9      9E    SAV     Savannah, GA  JFK   New York, NY        -7           NaN   \n",
       "\n",
       "  LATE_AIRCRAFT_DELAY  \n",
       "0                   9  \n",
       "1                 NaN  \n",
       "2                 NaN  \n",
       "3                 NaN  \n",
       "4                 NaN  \n",
       "5                 NaN  \n",
       "6                 NaN  \n",
       "7                 NaN  \n",
       "8                 NaN  \n",
       "9                 NaN  "
      ]
     },
     "execution_count": 52,
     "metadata": {},
     "output_type": "execute_result"
    }
   ],
   "source": [
    "#inspect dataframe\n",
    "df.head(10)"
   ]
  },
  {
   "cell_type": "code",
   "execution_count": 53,
   "metadata": {
    "collapsed": true
   },
   "outputs": [],
   "source": [
    "# In and output file paths\n",
    "in_csv = 'transtats_final.csv'\n",
    "out_sqlite = 'transtats_dataset_Finalversion.sqlite'\n",
    "\n",
    "table_name = 'my_table_finalversion' # name for the SQLite database table\n",
    "chunksize = 10000000 # number of lines to process at each iteration"
   ]
  },
  {
   "cell_type": "code",
   "execution_count": 54,
   "metadata": {
    "collapsed": true
   },
   "outputs": [],
   "source": [
    "# columns that should be read from the CSV file\n",
    "columns = ['CARRIER', 'ORIGIN', 'ORIGIN_CITY_NAME', 'DEST', 'DEST_CITY_NAME', 'DEP_DELAY', 'WEATHER_DELAY', 'LATE_AIRCRAFT_DELAY'] "
   ]
  },
  {
   "cell_type": "code",
   "execution_count": 55,
   "metadata": {
    "collapsed": true
   },
   "outputs": [],
   "source": [
    "# Get number of lines in the CSV file\n",
    "nlines = subprocess.check_output(['wc', '-l', in_csv])\n",
    "nlines = int(nlines.split()[0]) "
   ]
  },
  {
   "cell_type": "code",
   "execution_count": 56,
   "metadata": {
    "collapsed": true
   },
   "outputs": [],
   "source": [
    "# connect to database\n",
    "cnx = sqlite3.connect(out_sqlite)"
   ]
  },
  {
   "cell_type": "code",
   "execution_count": 57,
   "metadata": {},
   "outputs": [
    {
     "name": "stderr",
     "output_type": "stream",
     "text": [
      "/Users/danielohriner/anaconda3/lib/python3.6/site-packages/IPython/core/interactiveshell.py:2698: DtypeWarning: Columns (5,6,7) have mixed types. Specify dtype option on import or set low_memory=False.\n",
      "  interactivity=interactivity, compiler=compiler, result=result)\n"
     ]
    }
   ],
   "source": [
    "# Iteratively read CSV and dump lines into the SQLite table\n",
    "for i in range(0, nlines, chunksize):  # change 0 -> 1 if your csv file contains a column header\n",
    "    \n",
    "    df = pd.read_csv(in_csv,  \n",
    "            header=None,  # no header, define column header manually later\n",
    "            nrows=chunksize, # number of rows to read at each iteration\n",
    "            skiprows=i)   # skip rows that were already read"
   ]
  },
  {
   "cell_type": "code",
   "execution_count": 58,
   "metadata": {},
   "outputs": [],
   "source": [
    "    # columns to read        \n",
    "    df.columns = columns\n",
    "\n",
    "    sql.to_sql(df, \n",
    "                name=table_name, \n",
    "                con=cnx, \n",
    "                index=False, # don't use CSV file index\n",
    "                index_label='ORIGIN', # use a unique column from DataFrame as index\n",
    "                if_exists='append') "
   ]
  },
  {
   "cell_type": "code",
   "execution_count": 59,
   "metadata": {},
   "outputs": [],
   "source": [
    "#write dataframe to SQlite\n",
    "df.to_sql(out_sqlite, cnx, schema=None, if_exists='fail', index=True, index_label=None, chunksize=None, dtype=None)"
   ]
  },
  {
   "cell_type": "code",
   "execution_count": null,
   "metadata": {
    "collapsed": true
   },
   "outputs": [],
   "source": []
  }
 ],
 "metadata": {
  "kernelspec": {
   "display_name": "Python 3",
   "language": "python",
   "name": "python3"
  },
  "language_info": {
   "codemirror_mode": {
    "name": "ipython",
    "version": 3
   },
   "file_extension": ".py",
   "mimetype": "text/x-python",
   "name": "python",
   "nbconvert_exporter": "python",
   "pygments_lexer": "ipython3",
   "version": "3.6.3"
  }
 },
 "nbformat": 4,
 "nbformat_minor": 2
}
