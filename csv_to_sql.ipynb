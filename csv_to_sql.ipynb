{
 "cells": [
  {
   "cell_type": "code",
   "execution_count": 1,
   "metadata": {
    "collapsed": true
   },
   "outputs": [],
   "source": [
    " # Dependencies\n",
    "import pandas as pd\n",
    "import numpy as np\n",
    "import os"
   ]
  },
  {
   "cell_type": "code",
   "execution_count": 2,
   "metadata": {},
   "outputs": [],
   "source": [
    "# Read CSV file into a pandas DataFrame\n",
    "data = pd.read_csv (\"static/data/arrival_depart_data.csv\")"
   ]
  },
  {
   "cell_type": "code",
   "execution_count": 3,
   "metadata": {},
   "outputs": [
    {
     "data": {
      "text/plain": [
       "id                       611988\n",
       "YEAR                     611988\n",
       "FL_DATE                  611988\n",
       "UNIQUE_CARRIER           611988\n",
       "AIRLINE_ID               611988\n",
       "CARRIER                  611988\n",
       "ORIGIN_AIRPORT_ID        611988\n",
       "ORIGIN_CITY_MARKET_ID    611988\n",
       "ORIGIN                   611988\n",
       "ORIGIN_CITY_NAME         611988\n",
       "DEST_AIRPORT_ID          611988\n",
       "DEST_CITY_MARKET_ID      611988\n",
       "DEST                     611988\n",
       "DEST_CITY_NAME           611988\n",
       "DEP_DELAY_NEW            594331\n",
       "TAXI_OUT                 594776\n",
       "WHEELS_OFF               594777\n",
       "WHEELS_ON                594446\n",
       "TAXI_IN                  594446\n",
       "ARR_DELAY_NEW            593329\n",
       "CANCELLED                611988\n",
       "DIVERTED                 611988\n",
       "FLIGHTS                  611988\n",
       "CARRIER_DELAY             98744\n",
       "WEATHER_DELAY             98744\n",
       "dtype: int64"
      ]
     },
     "execution_count": 3,
     "metadata": {},
     "output_type": "execute_result"
    }
   ],
   "source": [
    "# Use `dropna` to drop any rows where there is missing data / reset data\n",
    "data.count()"
   ]
  },
  {
   "cell_type": "code",
   "execution_count": 4,
   "metadata": {},
   "outputs": [],
   "source": [
    "# Remove hawaii.sqlite if exists\n",
    "os.remove(\"static/data/data.sqlite\")"
   ]
  },
  {
   "cell_type": "code",
   "execution_count": 5,
   "metadata": {
    "collapsed": true
   },
   "outputs": [],
   "source": [
    "# Python SQL toolkit and Object Relational Mapper\n",
    "import sqlalchemy\n",
    "from sqlalchemy import create_engine, MetaData\n",
    "from sqlalchemy.ext.declarative import declarative_base\n",
    "from sqlalchemy import Column, Integer, String, Numeric, Text, Float, Date"
   ]
  },
  {
   "cell_type": "code",
   "execution_count": 6,
   "metadata": {
    "collapsed": true
   },
   "outputs": [],
   "source": [
    "# Create an engine to a SQLite database file\n",
    "engine = create_engine(\"sqlite:///static/data/data.sqlite\", echo=False)"
   ]
  },
  {
   "cell_type": "code",
   "execution_count": 7,
   "metadata": {
    "collapsed": true
   },
   "outputs": [],
   "source": [
    " # Create a connection to the engine called `conn`\n",
    "conn = engine.connect()"
   ]
  },
  {
   "cell_type": "code",
   "execution_count": 8,
   "metadata": {
    "collapsed": true
   },
   "outputs": [],
   "source": [
    "# Use `declarative_base` from SQLAlchemy to model the table as an ORM class\n",
    "\n",
    "\n",
    "Base = declarative_base()\n",
    "\n",
    "class Airportdata(Base):\n",
    "    __tablename__ = 'airportdata'\n",
    "\n",
    "    id = Column(Integer, primary_key=True)\n",
    "    YEAR = Column(Integer)\n",
    "    FL_DATE = Column(Text)\n",
    "    UNIQUE_CARRIER = Column(Text)\n",
    "    AIRLINE_ID = Column(Text)\n",
    "    CARRIER = Column(Text)\n",
    "    ORIGIN_AIRPORT_ID = Column(Text)\n",
    "    ORIGIN_CITY_MARKET_ID = Column(Text)\n",
    "    ORIGIN = Column(Text)\n",
    "    ORIGIN_CITY_NAME = Column(Text)\n",
    "    DEST_AIRPORT_ID = Column(Text)\n",
    "    DEST_CITY_MARKET_ID = Column(Text)\n",
    "    DEST = Column(Text)\n",
    "    DEST_CITY_NAME = Column(Text)\n",
    "    DEP_DELAY_NEW = Column(Float)\n",
    "    TAXI_OUT = Column(Float)\n",
    "    WHEELS_OFF = Column(Float)\n",
    "    WHEELS_ON = Column(Float)\n",
    "    TAXI_IN = Column(Float)\n",
    "    ARR_DELAY_NEW = Column(Float)\n",
    "    CANCELLED = Column(Float)\n",
    "    DIVERTED = Column(Float)\n",
    "    FLIGHTS = Column(Float)\n",
    "    CARRIER_DELAY = Column(Float)\n",
    "    WEATHER_DELAY = Column(Float)\n",
    "\n",
    "    def __repr__(self):\n",
    "        return f\"id={self.id}, name={self.name}\""
   ]
  },
  {
   "cell_type": "code",
   "execution_count": 9,
   "metadata": {
    "collapsed": true
   },
   "outputs": [],
   "source": [
    " # Use `create_all` to create the tables in the database\n",
    "Base.metadata.create_all(engine)"
   ]
  },
  {
   "cell_type": "code",
   "execution_count": 10,
   "metadata": {
    "collapsed": true
   },
   "outputs": [],
   "source": [
    " # Use Orient='records' to create a list of data to write\n",
    "Mdata = data.to_dict(orient='records')"
   ]
  },
  {
   "cell_type": "code",
   "execution_count": 11,
   "metadata": {},
   "outputs": [
    {
     "name": "stdout",
     "output_type": "stream",
     "text": [
      "[{'id': 1, 'YEAR': 2018, 'FL_DATE': '3/18/2018', 'UNIQUE_CARRIER': 'OH', 'AIRLINE_ID': 20397, 'CARRIER': 'OH', 'ORIGIN_AIRPORT_ID': 11057, 'ORIGIN_CITY_MARKET_ID': 31057, 'ORIGIN': 'CLT', 'ORIGIN_CITY_NAME': 'Charlotte, NC', 'DEST_AIRPORT_ID': 10434, 'DEST_CITY_MARKET_ID': 30434, 'DEST': 'AVP', 'DEST_CITY_NAME': 'Scranton/Wilkes-Barre, PA', 'DEP_DELAY_NEW': 0.0, 'TAXI_OUT': 28.0, 'WHEELS_OFF': 1647.0, 'WHEELS_ON': 1757.0, 'TAXI_IN': 3.0, 'ARR_DELAY_NEW': 0.0, 'CANCELLED': 0, 'DIVERTED': 0, 'FLIGHTS': 1, 'CARRIER_DELAY': nan, 'WEATHER_DELAY': nan}]\n"
     ]
    }
   ],
   "source": [
    " # Data is just a list of dictionaries that represent each row of data\n",
    "print(Mdata[:1])"
   ]
  },
  {
   "cell_type": "code",
   "execution_count": 12,
   "metadata": {
    "collapsed": true
   },
   "outputs": [],
   "source": [
    " # Use MetaData from SQLAlchemy to reflect the tables\n",
    "metadata = MetaData(bind=engine)\n",
    "metadata.reflect()"
   ]
  },
  {
   "cell_type": "code",
   "execution_count": 13,
   "metadata": {
    "collapsed": true
   },
   "outputs": [],
   "source": [
    " # Save the reference to the table as a variable called `Mtable` \n",
    "Mtable = sqlalchemy.Table('airportdata', metadata, autoload=True)"
   ]
  },
  {
   "cell_type": "code",
   "execution_count": 14,
   "metadata": {},
   "outputs": [
    {
     "data": {
      "text/plain": [
       "<sqlalchemy.engine.result.ResultProxy at 0x1afa3ca30f0>"
      ]
     },
     "execution_count": 14,
     "metadata": {},
     "output_type": "execute_result"
    }
   ],
   "source": [
    "# Use `table.delete()` to remove any pre-existing data.\n",
    "conn.execute(Mtable.delete()) \n"
   ]
  },
  {
   "cell_type": "code",
   "execution_count": 15,
   "metadata": {},
   "outputs": [
    {
     "data": {
      "text/plain": [
       "<sqlalchemy.engine.result.ResultProxy at 0x1afa3cc3cf8>"
      ]
     },
     "execution_count": 15,
     "metadata": {},
     "output_type": "execute_result"
    }
   ],
   "source": [
    " # Use `table.insert()` to insert the data into the table\n",
    "# The SQL table is populated during this step\n",
    "conn.execute(Mtable.insert(), Mdata)"
   ]
  },
  {
   "cell_type": "code",
   "execution_count": 16,
   "metadata": {},
   "outputs": [
    {
     "data": {
      "text/plain": [
       "[(1, 2018, '3/18/2018', 'OH', '20397', 'OH', '11057', '31057', 'CLT', 'Charlotte, NC', '10434', '30434', 'AVP', 'Scranton/Wilkes-Barre, PA', 0.0, 28.0, 1647.0, 1757.0, 3.0, 0.0, 0.0, 0.0, 1.0, None, None),\n",
       " (2, 2018, '3/19/2018', 'OH', '20397', 'OH', '11057', '31057', 'CLT', 'Charlotte, NC', '10434', '30434', 'AVP', 'Scranton/Wilkes-Barre, PA', 0.0, 17.0, 1647.0, 1806.0, 4.0, 0.0, 0.0, 0.0, 1.0, None, None),\n",
       " (3, 2018, '3/20/2018', 'OH', '20397', 'OH', '11057', '31057', 'CLT', 'Charlotte, NC', '10434', '30434', 'AVP', 'Scranton/Wilkes-Barre, PA', 3.0, 22.0, 1655.0, 1807.0, 4.0, 0.0, 0.0, 0.0, 1.0, None, None),\n",
       " (4, 2018, '3/21/2018', 'OH', '20397', 'OH', '11057', '31057', 'CLT', 'Charlotte, NC', '10434', '30434', 'AVP', 'Scranton/Wilkes-Barre, PA', 39.0, 12.0, 1721.0, 1839.0, 2.0, 23.0, 0.0, 0.0, 1.0, 0.0, 0.0),\n",
       " (5, 2018, '3/22/2018', 'OH', '20397', 'OH', '11057', '31057', 'CLT', 'Charlotte, NC', '10434', '30434', 'AVP', 'Scranton/Wilkes-Barre, PA', 0.0, 33.0, 1658.0, 1817.0, 3.0, 2.0, 0.0, 0.0, 1.0, None, None)]"
      ]
     },
     "execution_count": 16,
     "metadata": {},
     "output_type": "execute_result"
    }
   ],
   "source": [
    " # Test that table works by fetching the first 5 rows. \n",
    "conn.execute(\"select * from airportdata limit 5\").fetchall()"
   ]
  },
  {
   "cell_type": "code",
   "execution_count": 17,
   "metadata": {
    "collapsed": true
   },
   "outputs": [],
   "source": [
    "# Dependencies\n",
    "import pandas as pd\n",
    "import numpy as np\n",
    "import matplotlib\n",
    "import matplotlib.pyplot as plt\n",
    "import seaborn as sns\n",
    "import os\n",
    "import datetime as dt\n",
    "\n",
    "# Python SQL toolkit and Object Relational Mapper\n",
    "import sqlalchemy\n",
    "from sqlalchemy.ext.automap import automap_base\n",
    "from sqlalchemy.orm import Session\n",
    "from sqlalchemy import create_engine, inspect, func"
   ]
  },
  {
   "cell_type": "code",
   "execution_count": 18,
   "metadata": {
    "collapsed": true
   },
   "outputs": [],
   "source": [
    "# Create an engine to a SQLite database file\n",
    "engine = create_engine(\"sqlite:///static/data/data.sqlite\", echo=False)"
   ]
  },
  {
   "cell_type": "code",
   "execution_count": 19,
   "metadata": {
    "collapsed": true
   },
   "outputs": [],
   "source": [
    "# Declare a Base using `automap_base()`\n",
    "Base = automap_base() "
   ]
  },
  {
   "cell_type": "code",
   "execution_count": 20,
   "metadata": {
    "collapsed": true
   },
   "outputs": [],
   "source": [
    " # Use the Base class to reflect the database tables\n",
    "Base.prepare(engine, reflect=True)"
   ]
  },
  {
   "cell_type": "code",
   "execution_count": 21,
   "metadata": {
    "collapsed": true
   },
   "outputs": [],
   "source": [
    " # Assign the measuremens and stations classes to variables\n",
    "Airportdata = Base.classes.airportdata\n"
   ]
  },
  {
   "cell_type": "code",
   "execution_count": 22,
   "metadata": {
    "collapsed": true
   },
   "outputs": [],
   "source": [
    " session = Session(engine)"
   ]
  },
  {
   "cell_type": "code",
   "execution_count": null,
   "metadata": {
    "collapsed": true
   },
   "outputs": [],
   "source": []
  },
  {
   "cell_type": "code",
   "execution_count": 25,
   "metadata": {},
   "outputs": [
    {
     "name": "stdout",
     "output_type": "stream",
     "text": [
      "id INTEGER\n",
      "YEAR INTEGER\n",
      "FL_DATE TEXT\n",
      "UNIQUE_CARRIER TEXT\n",
      "AIRLINE_ID TEXT\n",
      "CARRIER TEXT\n",
      "ORIGIN_AIRPORT_ID TEXT\n",
      "ORIGIN_CITY_MARKET_ID TEXT\n",
      "ORIGIN TEXT\n",
      "ORIGIN_CITY_NAME TEXT\n",
      "DEST_AIRPORT_ID TEXT\n",
      "DEST_CITY_MARKET_ID TEXT\n",
      "DEST TEXT\n",
      "DEST_CITY_NAME TEXT\n",
      "DEP_DELAY_NEW FLOAT\n",
      "TAXI_OUT FLOAT\n",
      "WHEELS_OFF FLOAT\n",
      "WHEELS_ON FLOAT\n",
      "TAXI_IN FLOAT\n",
      "ARR_DELAY_NEW FLOAT\n",
      "CANCELLED FLOAT\n",
      "DIVERTED FLOAT\n",
      "FLIGHTS FLOAT\n",
      "CARRIER_DELAY FLOAT\n",
      "WEATHER_DELAY FLOAT\n"
     ]
    }
   ],
   "source": [
    "# review column and datatype\n",
    "ins = inspect(engine)\n",
    "columns = ins.get_columns('airportdata')\n",
    "for c in columns:\n",
    "    print(c['name'], c[\"type\"])"
   ]
  },
  {
   "cell_type": "code",
   "execution_count": 27,
   "metadata": {},
   "outputs": [],
   "source": [
    "c_depart = session.query(func.count(Airportdata.UNIQUE_CARRIER))"
   ]
  },
  {
   "cell_type": "code",
   "execution_count": 33,
   "metadata": {},
   "outputs": [
    {
     "data": {
      "text/plain": [
       "611988"
      ]
     },
     "execution_count": 33,
     "metadata": {},
     "output_type": "execute_result"
    }
   ],
   "source": [
    "c_depart[0][0]"
   ]
  }
 ],
 "metadata": {
  "kernelspec": {
   "display_name": "Python 3",
   "language": "python",
   "name": "python3"
  },
  "language_info": {
   "codemirror_mode": {
    "name": "ipython",
    "version": 3
   },
   "file_extension": ".py",
   "mimetype": "text/x-python",
   "name": "python",
   "nbconvert_exporter": "python",
   "pygments_lexer": "ipython3",
   "version": "3.6.3"
  }
 },
 "nbformat": 4,
 "nbformat_minor": 2
}
